{
  "nbformat": 4,
  "nbformat_minor": 0,
  "metadata": {
    "colab": {
      "provenance": []
    },
    "kernelspec": {
      "name": "python3",
      "display_name": "Python 3"
    },
    "language_info": {
      "name": "python"
    }
  },
  "cells": [
    {
      "cell_type": "markdown",
      "source": [
        "**Step 1: Set up the environment:**\n"
      ],
      "metadata": {
        "id": "H8elgvqIeoXz"
      }
    },
    {
      "cell_type": "code",
      "execution_count": 1,
      "metadata": {
        "colab": {
          "base_uri": "https://localhost:8080/"
        },
        "id": "tYni264babi2",
        "outputId": "ce1a1185-3c12-4b20-f7d3-07018f936d5a"
      },
      "outputs": [
        {
          "output_type": "stream",
          "name": "stdout",
          "text": [
            "Requirement already satisfied: openpyxl in /usr/local/lib/python3.10/dist-packages (3.1.5)\n",
            "Requirement already satisfied: et-xmlfile in /usr/local/lib/python3.10/dist-packages (from openpyxl) (1.1.0)\n"
          ]
        }
      ],
      "source": [
        "%pip install openpyxl"
      ]
    },
    {
      "cell_type": "code",
      "source": [
        "import pandas as pd\n",
        "from IPython.display import display\n",
        "file_path = '/content/Auto_Regressive_Model_Diffusion_Model_V_1.0.xlsx'\n",
        "df = pd.read_excel(file_path)"
      ],
      "metadata": {
        "id": "1GSzM8I2aidX"
      },
      "execution_count": 6,
      "outputs": []
    },
    {
      "cell_type": "code",
      "source": [
        "display(df.head())\n"
      ],
      "metadata": {
        "colab": {
          "base_uri": "https://localhost:8080/",
          "height": 258
        },
        "id": "4ZJY8gqzanFX",
        "outputId": "7388b658-3afa-49d4-bcf7-f31131f9f780"
      },
      "execution_count": 8,
      "outputs": [
        {
          "output_type": "display_data",
          "data": {
            "text/plain": [
              "   SrNo  Patient_Id Symptoms - 1 Unnamed: 3 Unnamed: 4  DOB Symptoms - 2  \\\n",
              "0   NaN         NaN        Fever        NaN        NaN  NaN        Cough   \n",
              "1   NaN         NaN         Mild        Low       High  NaN         Mild   \n",
              "2   1.0         1.0            Y          N          N  NaN            N   \n",
              "3   2.0         2.0            Y          N          N  NaN            N   \n",
              "4   3.0         3.0            Y          N          N  NaN            N   \n",
              "\n",
              "  Unnamed: 7 Unnamed: 8 Symptoms - 3 Unnamed: 10 Unnamed: 11 Other Symptoms  \\\n",
              "0        NaN        NaN         Cold         NaN         NaN           Text   \n",
              "1        Low       High         Mild         Low        High           Text   \n",
              "2          Y         Y0            N           N           Y      Body Ache   \n",
              "3          Y         Y0            N           N           Y      Shivering   \n",
              "4          Y         Y0            N           N           Y      Head Ache   \n",
              "\n",
              "   Unnamed: 13  Unnamed: 14  Parser                        Unnamed: 16  \\\n",
              "0          NaN          NaN  Create                                NaN   \n",
              "1          NaN          NaN      NaN  Data Set Dictionary for Symptoms   \n",
              "2          NaN          NaN      NaN                                 {   \n",
              "3          NaN          NaN      NaN                               NaN   \n",
              "4          NaN          NaN      NaN                               NaN   \n",
              "\n",
              "                               Unnamed: 17  \n",
              "0                                      NaN  \n",
              "1                                      NaN  \n",
              "2                                      NaN  \n",
              "3  S1 : { Fever:mild,Fever:low,Fever:High}  \n",
              "4   S2 : {Cough:mild,Cough:low,Cough:High}  "
            ],
            "text/html": [
              "\n",
              "  <div id=\"df-9fa12924-061d-4a10-ad1b-a527e0036450\" class=\"colab-df-container\">\n",
              "    <div>\n",
              "<style scoped>\n",
              "    .dataframe tbody tr th:only-of-type {\n",
              "        vertical-align: middle;\n",
              "    }\n",
              "\n",
              "    .dataframe tbody tr th {\n",
              "        vertical-align: top;\n",
              "    }\n",
              "\n",
              "    .dataframe thead th {\n",
              "        text-align: right;\n",
              "    }\n",
              "</style>\n",
              "<table border=\"1\" class=\"dataframe\">\n",
              "  <thead>\n",
              "    <tr style=\"text-align: right;\">\n",
              "      <th></th>\n",
              "      <th>SrNo</th>\n",
              "      <th>Patient_Id</th>\n",
              "      <th>Symptoms - 1</th>\n",
              "      <th>Unnamed: 3</th>\n",
              "      <th>Unnamed: 4</th>\n",
              "      <th>DOB</th>\n",
              "      <th>Symptoms - 2</th>\n",
              "      <th>Unnamed: 7</th>\n",
              "      <th>Unnamed: 8</th>\n",
              "      <th>Symptoms - 3</th>\n",
              "      <th>Unnamed: 10</th>\n",
              "      <th>Unnamed: 11</th>\n",
              "      <th>Other Symptoms</th>\n",
              "      <th>Unnamed: 13</th>\n",
              "      <th>Unnamed: 14</th>\n",
              "      <th>Parser</th>\n",
              "      <th>Unnamed: 16</th>\n",
              "      <th>Unnamed: 17</th>\n",
              "    </tr>\n",
              "  </thead>\n",
              "  <tbody>\n",
              "    <tr>\n",
              "      <th>0</th>\n",
              "      <td>NaN</td>\n",
              "      <td>NaN</td>\n",
              "      <td>Fever</td>\n",
              "      <td>NaN</td>\n",
              "      <td>NaN</td>\n",
              "      <td>NaN</td>\n",
              "      <td>Cough</td>\n",
              "      <td>NaN</td>\n",
              "      <td>NaN</td>\n",
              "      <td>Cold</td>\n",
              "      <td>NaN</td>\n",
              "      <td>NaN</td>\n",
              "      <td>Text</td>\n",
              "      <td>NaN</td>\n",
              "      <td>NaN</td>\n",
              "      <td>Create</td>\n",
              "      <td>NaN</td>\n",
              "      <td>NaN</td>\n",
              "    </tr>\n",
              "    <tr>\n",
              "      <th>1</th>\n",
              "      <td>NaN</td>\n",
              "      <td>NaN</td>\n",
              "      <td>Mild</td>\n",
              "      <td>Low</td>\n",
              "      <td>High</td>\n",
              "      <td>NaN</td>\n",
              "      <td>Mild</td>\n",
              "      <td>Low</td>\n",
              "      <td>High</td>\n",
              "      <td>Mild</td>\n",
              "      <td>Low</td>\n",
              "      <td>High</td>\n",
              "      <td>Text</td>\n",
              "      <td>NaN</td>\n",
              "      <td>NaN</td>\n",
              "      <td>NaN</td>\n",
              "      <td>Data Set Dictionary for Symptoms</td>\n",
              "      <td>NaN</td>\n",
              "    </tr>\n",
              "    <tr>\n",
              "      <th>2</th>\n",
              "      <td>1.0</td>\n",
              "      <td>1.0</td>\n",
              "      <td>Y</td>\n",
              "      <td>N</td>\n",
              "      <td>N</td>\n",
              "      <td>NaN</td>\n",
              "      <td>N</td>\n",
              "      <td>Y</td>\n",
              "      <td>Y0</td>\n",
              "      <td>N</td>\n",
              "      <td>N</td>\n",
              "      <td>Y</td>\n",
              "      <td>Body Ache</td>\n",
              "      <td>NaN</td>\n",
              "      <td>NaN</td>\n",
              "      <td>NaN</td>\n",
              "      <td>{</td>\n",
              "      <td>NaN</td>\n",
              "    </tr>\n",
              "    <tr>\n",
              "      <th>3</th>\n",
              "      <td>2.0</td>\n",
              "      <td>2.0</td>\n",
              "      <td>Y</td>\n",
              "      <td>N</td>\n",
              "      <td>N</td>\n",
              "      <td>NaN</td>\n",
              "      <td>N</td>\n",
              "      <td>Y</td>\n",
              "      <td>Y0</td>\n",
              "      <td>N</td>\n",
              "      <td>N</td>\n",
              "      <td>Y</td>\n",
              "      <td>Shivering</td>\n",
              "      <td>NaN</td>\n",
              "      <td>NaN</td>\n",
              "      <td>NaN</td>\n",
              "      <td>NaN</td>\n",
              "      <td>S1 : { Fever:mild,Fever:low,Fever:High}</td>\n",
              "    </tr>\n",
              "    <tr>\n",
              "      <th>4</th>\n",
              "      <td>3.0</td>\n",
              "      <td>3.0</td>\n",
              "      <td>Y</td>\n",
              "      <td>N</td>\n",
              "      <td>N</td>\n",
              "      <td>NaN</td>\n",
              "      <td>N</td>\n",
              "      <td>Y</td>\n",
              "      <td>Y0</td>\n",
              "      <td>N</td>\n",
              "      <td>N</td>\n",
              "      <td>Y</td>\n",
              "      <td>Head Ache</td>\n",
              "      <td>NaN</td>\n",
              "      <td>NaN</td>\n",
              "      <td>NaN</td>\n",
              "      <td>NaN</td>\n",
              "      <td>S2 : {Cough:mild,Cough:low,Cough:High}</td>\n",
              "    </tr>\n",
              "  </tbody>\n",
              "</table>\n",
              "</div>\n",
              "    <div class=\"colab-df-buttons\">\n",
              "\n",
              "  <div class=\"colab-df-container\">\n",
              "    <button class=\"colab-df-convert\" onclick=\"convertToInteractive('df-9fa12924-061d-4a10-ad1b-a527e0036450')\"\n",
              "            title=\"Convert this dataframe to an interactive table.\"\n",
              "            style=\"display:none;\">\n",
              "\n",
              "  <svg xmlns=\"http://www.w3.org/2000/svg\" height=\"24px\" viewBox=\"0 -960 960 960\">\n",
              "    <path d=\"M120-120v-720h720v720H120Zm60-500h600v-160H180v160Zm220 220h160v-160H400v160Zm0 220h160v-160H400v160ZM180-400h160v-160H180v160Zm440 0h160v-160H620v160ZM180-180h160v-160H180v160Zm440 0h160v-160H620v160Z\"/>\n",
              "  </svg>\n",
              "    </button>\n",
              "\n",
              "  <style>\n",
              "    .colab-df-container {\n",
              "      display:flex;\n",
              "      gap: 12px;\n",
              "    }\n",
              "\n",
              "    .colab-df-convert {\n",
              "      background-color: #E8F0FE;\n",
              "      border: none;\n",
              "      border-radius: 50%;\n",
              "      cursor: pointer;\n",
              "      display: none;\n",
              "      fill: #1967D2;\n",
              "      height: 32px;\n",
              "      padding: 0 0 0 0;\n",
              "      width: 32px;\n",
              "    }\n",
              "\n",
              "    .colab-df-convert:hover {\n",
              "      background-color: #E2EBFA;\n",
              "      box-shadow: 0px 1px 2px rgba(60, 64, 67, 0.3), 0px 1px 3px 1px rgba(60, 64, 67, 0.15);\n",
              "      fill: #174EA6;\n",
              "    }\n",
              "\n",
              "    .colab-df-buttons div {\n",
              "      margin-bottom: 4px;\n",
              "    }\n",
              "\n",
              "    [theme=dark] .colab-df-convert {\n",
              "      background-color: #3B4455;\n",
              "      fill: #D2E3FC;\n",
              "    }\n",
              "\n",
              "    [theme=dark] .colab-df-convert:hover {\n",
              "      background-color: #434B5C;\n",
              "      box-shadow: 0px 1px 3px 1px rgba(0, 0, 0, 0.15);\n",
              "      filter: drop-shadow(0px 1px 2px rgba(0, 0, 0, 0.3));\n",
              "      fill: #FFFFFF;\n",
              "    }\n",
              "  </style>\n",
              "\n",
              "    <script>\n",
              "      const buttonEl =\n",
              "        document.querySelector('#df-9fa12924-061d-4a10-ad1b-a527e0036450 button.colab-df-convert');\n",
              "      buttonEl.style.display =\n",
              "        google.colab.kernel.accessAllowed ? 'block' : 'none';\n",
              "\n",
              "      async function convertToInteractive(key) {\n",
              "        const element = document.querySelector('#df-9fa12924-061d-4a10-ad1b-a527e0036450');\n",
              "        const dataTable =\n",
              "          await google.colab.kernel.invokeFunction('convertToInteractive',\n",
              "                                                    [key], {});\n",
              "        if (!dataTable) return;\n",
              "\n",
              "        const docLinkHtml = 'Like what you see? Visit the ' +\n",
              "          '<a target=\"_blank\" href=https://colab.research.google.com/notebooks/data_table.ipynb>data table notebook</a>'\n",
              "          + ' to learn more about interactive tables.';\n",
              "        element.innerHTML = '';\n",
              "        dataTable['output_type'] = 'display_data';\n",
              "        await google.colab.output.renderOutput(dataTable, element);\n",
              "        const docLink = document.createElement('div');\n",
              "        docLink.innerHTML = docLinkHtml;\n",
              "        element.appendChild(docLink);\n",
              "      }\n",
              "    </script>\n",
              "  </div>\n",
              "\n",
              "\n",
              "<div id=\"df-d5fbd3d1-c0d9-41bd-9718-86e0c819a921\">\n",
              "  <button class=\"colab-df-quickchart\" onclick=\"quickchart('df-d5fbd3d1-c0d9-41bd-9718-86e0c819a921')\"\n",
              "            title=\"Suggest charts\"\n",
              "            style=\"display:none;\">\n",
              "\n",
              "<svg xmlns=\"http://www.w3.org/2000/svg\" height=\"24px\"viewBox=\"0 0 24 24\"\n",
              "     width=\"24px\">\n",
              "    <g>\n",
              "        <path d=\"M19 3H5c-1.1 0-2 .9-2 2v14c0 1.1.9 2 2 2h14c1.1 0 2-.9 2-2V5c0-1.1-.9-2-2-2zM9 17H7v-7h2v7zm4 0h-2V7h2v10zm4 0h-2v-4h2v4z\"/>\n",
              "    </g>\n",
              "</svg>\n",
              "  </button>\n",
              "\n",
              "<style>\n",
              "  .colab-df-quickchart {\n",
              "      --bg-color: #E8F0FE;\n",
              "      --fill-color: #1967D2;\n",
              "      --hover-bg-color: #E2EBFA;\n",
              "      --hover-fill-color: #174EA6;\n",
              "      --disabled-fill-color: #AAA;\n",
              "      --disabled-bg-color: #DDD;\n",
              "  }\n",
              "\n",
              "  [theme=dark] .colab-df-quickchart {\n",
              "      --bg-color: #3B4455;\n",
              "      --fill-color: #D2E3FC;\n",
              "      --hover-bg-color: #434B5C;\n",
              "      --hover-fill-color: #FFFFFF;\n",
              "      --disabled-bg-color: #3B4455;\n",
              "      --disabled-fill-color: #666;\n",
              "  }\n",
              "\n",
              "  .colab-df-quickchart {\n",
              "    background-color: var(--bg-color);\n",
              "    border: none;\n",
              "    border-radius: 50%;\n",
              "    cursor: pointer;\n",
              "    display: none;\n",
              "    fill: var(--fill-color);\n",
              "    height: 32px;\n",
              "    padding: 0;\n",
              "    width: 32px;\n",
              "  }\n",
              "\n",
              "  .colab-df-quickchart:hover {\n",
              "    background-color: var(--hover-bg-color);\n",
              "    box-shadow: 0 1px 2px rgba(60, 64, 67, 0.3), 0 1px 3px 1px rgba(60, 64, 67, 0.15);\n",
              "    fill: var(--button-hover-fill-color);\n",
              "  }\n",
              "\n",
              "  .colab-df-quickchart-complete:disabled,\n",
              "  .colab-df-quickchart-complete:disabled:hover {\n",
              "    background-color: var(--disabled-bg-color);\n",
              "    fill: var(--disabled-fill-color);\n",
              "    box-shadow: none;\n",
              "  }\n",
              "\n",
              "  .colab-df-spinner {\n",
              "    border: 2px solid var(--fill-color);\n",
              "    border-color: transparent;\n",
              "    border-bottom-color: var(--fill-color);\n",
              "    animation:\n",
              "      spin 1s steps(1) infinite;\n",
              "  }\n",
              "\n",
              "  @keyframes spin {\n",
              "    0% {\n",
              "      border-color: transparent;\n",
              "      border-bottom-color: var(--fill-color);\n",
              "      border-left-color: var(--fill-color);\n",
              "    }\n",
              "    20% {\n",
              "      border-color: transparent;\n",
              "      border-left-color: var(--fill-color);\n",
              "      border-top-color: var(--fill-color);\n",
              "    }\n",
              "    30% {\n",
              "      border-color: transparent;\n",
              "      border-left-color: var(--fill-color);\n",
              "      border-top-color: var(--fill-color);\n",
              "      border-right-color: var(--fill-color);\n",
              "    }\n",
              "    40% {\n",
              "      border-color: transparent;\n",
              "      border-right-color: var(--fill-color);\n",
              "      border-top-color: var(--fill-color);\n",
              "    }\n",
              "    60% {\n",
              "      border-color: transparent;\n",
              "      border-right-color: var(--fill-color);\n",
              "    }\n",
              "    80% {\n",
              "      border-color: transparent;\n",
              "      border-right-color: var(--fill-color);\n",
              "      border-bottom-color: var(--fill-color);\n",
              "    }\n",
              "    90% {\n",
              "      border-color: transparent;\n",
              "      border-bottom-color: var(--fill-color);\n",
              "    }\n",
              "  }\n",
              "</style>\n",
              "\n",
              "  <script>\n",
              "    async function quickchart(key) {\n",
              "      const quickchartButtonEl =\n",
              "        document.querySelector('#' + key + ' button');\n",
              "      quickchartButtonEl.disabled = true;  // To prevent multiple clicks.\n",
              "      quickchartButtonEl.classList.add('colab-df-spinner');\n",
              "      try {\n",
              "        const charts = await google.colab.kernel.invokeFunction(\n",
              "            'suggestCharts', [key], {});\n",
              "      } catch (error) {\n",
              "        console.error('Error during call to suggestCharts:', error);\n",
              "      }\n",
              "      quickchartButtonEl.classList.remove('colab-df-spinner');\n",
              "      quickchartButtonEl.classList.add('colab-df-quickchart-complete');\n",
              "    }\n",
              "    (() => {\n",
              "      let quickchartButtonEl =\n",
              "        document.querySelector('#df-d5fbd3d1-c0d9-41bd-9718-86e0c819a921 button');\n",
              "      quickchartButtonEl.style.display =\n",
              "        google.colab.kernel.accessAllowed ? 'block' : 'none';\n",
              "    })();\n",
              "  </script>\n",
              "</div>\n",
              "\n",
              "    </div>\n",
              "  </div>\n"
            ],
            "application/vnd.google.colaboratory.intrinsic+json": {
              "type": "dataframe",
              "summary": "{\n  \"name\": \"display(df\",\n  \"rows\": 5,\n  \"fields\": [\n    {\n      \"column\": \"SrNo\",\n      \"properties\": {\n        \"dtype\": \"number\",\n        \"std\": 1.0,\n        \"min\": 1.0,\n        \"max\": 3.0,\n        \"num_unique_values\": 3,\n        \"samples\": [\n          1.0,\n          2.0,\n          3.0\n        ],\n        \"semantic_type\": \"\",\n        \"description\": \"\"\n      }\n    },\n    {\n      \"column\": \"Patient_Id\",\n      \"properties\": {\n        \"dtype\": \"number\",\n        \"std\": 1.0,\n        \"min\": 1.0,\n        \"max\": 3.0,\n        \"num_unique_values\": 3,\n        \"samples\": [\n          1.0,\n          2.0,\n          3.0\n        ],\n        \"semantic_type\": \"\",\n        \"description\": \"\"\n      }\n    },\n    {\n      \"column\": \"Symptoms - 1\",\n      \"properties\": {\n        \"dtype\": \"string\",\n        \"num_unique_values\": 3,\n        \"samples\": [\n          \"Fever\",\n          \"Mild\",\n          \"Y\"\n        ],\n        \"semantic_type\": \"\",\n        \"description\": \"\"\n      }\n    },\n    {\n      \"column\": \"Unnamed: 3\",\n      \"properties\": {\n        \"dtype\": \"category\",\n        \"num_unique_values\": 2,\n        \"samples\": [\n          \"N\",\n          \"Low\"\n        ],\n        \"semantic_type\": \"\",\n        \"description\": \"\"\n      }\n    },\n    {\n      \"column\": \"Unnamed: 4\",\n      \"properties\": {\n        \"dtype\": \"category\",\n        \"num_unique_values\": 2,\n        \"samples\": [\n          \"N\",\n          \"High\"\n        ],\n        \"semantic_type\": \"\",\n        \"description\": \"\"\n      }\n    },\n    {\n      \"column\": \"DOB\",\n      \"properties\": {\n        \"dtype\": \"number\",\n        \"std\": null,\n        \"min\": null,\n        \"max\": null,\n        \"num_unique_values\": 0,\n        \"samples\": [],\n        \"semantic_type\": \"\",\n        \"description\": \"\"\n      }\n    },\n    {\n      \"column\": \"Symptoms - 2\",\n      \"properties\": {\n        \"dtype\": \"string\",\n        \"num_unique_values\": 3,\n        \"samples\": [],\n        \"semantic_type\": \"\",\n        \"description\": \"\"\n      }\n    },\n    {\n      \"column\": \"Unnamed: 7\",\n      \"properties\": {\n        \"dtype\": \"category\",\n        \"num_unique_values\": 2,\n        \"samples\": [],\n        \"semantic_type\": \"\",\n        \"description\": \"\"\n      }\n    },\n    {\n      \"column\": \"Unnamed: 8\",\n      \"properties\": {\n        \"dtype\": \"category\",\n        \"num_unique_values\": 2,\n        \"samples\": [],\n        \"semantic_type\": \"\",\n        \"description\": \"\"\n      }\n    },\n    {\n      \"column\": \"Symptoms - 3\",\n      \"properties\": {\n        \"dtype\": \"string\",\n        \"num_unique_values\": 3,\n        \"samples\": [],\n        \"semantic_type\": \"\",\n        \"description\": \"\"\n      }\n    },\n    {\n      \"column\": \"Unnamed: 10\",\n      \"properties\": {\n        \"dtype\": \"category\",\n        \"num_unique_values\": 2,\n        \"samples\": [],\n        \"semantic_type\": \"\",\n        \"description\": \"\"\n      }\n    },\n    {\n      \"column\": \"Unnamed: 11\",\n      \"properties\": {\n        \"dtype\": \"category\",\n        \"num_unique_values\": 2,\n        \"samples\": [],\n        \"semantic_type\": \"\",\n        \"description\": \"\"\n      }\n    },\n    {\n      \"column\": \"Other Symptoms\",\n      \"properties\": {\n        \"dtype\": \"string\",\n        \"num_unique_values\": 4,\n        \"samples\": [],\n        \"semantic_type\": \"\",\n        \"description\": \"\"\n      }\n    },\n    {\n      \"column\": \"Unnamed: 13\",\n      \"properties\": {\n        \"dtype\": \"number\",\n        \"std\": null,\n        \"min\": null,\n        \"max\": null,\n        \"num_unique_values\": 0,\n        \"samples\": [],\n        \"semantic_type\": \"\",\n        \"description\": \"\"\n      }\n    },\n    {\n      \"column\": \"Unnamed: 14\",\n      \"properties\": {\n        \"dtype\": \"number\",\n        \"std\": null,\n        \"min\": null,\n        \"max\": null,\n        \"num_unique_values\": 0,\n        \"samples\": [],\n        \"semantic_type\": \"\",\n        \"description\": \"\"\n      }\n    },\n    {\n      \"column\": \"Parser \",\n      \"properties\": {\n        \"dtype\": \"category\",\n        \"num_unique_values\": 1,\n        \"samples\": [],\n        \"semantic_type\": \"\",\n        \"description\": \"\"\n      }\n    },\n    {\n      \"column\": \"Unnamed: 16\",\n      \"properties\": {\n        \"dtype\": \"category\",\n        \"num_unique_values\": 2,\n        \"samples\": [],\n        \"semantic_type\": \"\",\n        \"description\": \"\"\n      }\n    },\n    {\n      \"column\": \"Unnamed: 17\",\n      \"properties\": {\n        \"dtype\": \"category\",\n        \"num_unique_values\": 2,\n        \"samples\": [],\n        \"semantic_type\": \"\",\n        \"description\": \"\"\n      }\n    }\n  ]\n}"
            }
          },
          "metadata": {}
        }
      ]
    },
    {
      "cell_type": "code",
      "source": [],
      "metadata": {
        "id": "TtfTmidEatnp"
      },
      "execution_count": null,
      "outputs": []
    },
    {
      "cell_type": "markdown",
      "source": [
        "**Step 2: Creating a Program that Uses a Parser**                 \n",
        "1) Read the dataset and creating dictionary\n",
        "\n",
        "2) Printing the Loss\n",
        "\n",
        "3) Reading the DataSet to enhance the Dictionary for the new data found in other Symptoms."
      ],
      "metadata": {
        "id": "Om5ICkZgf_w9"
      }
    },
    {
      "cell_type": "code",
      "source": [
        "dataset_dict = df.to_dict(orient='records')\n",
        "print(\"Dataset Dictionary created.\")"
      ],
      "metadata": {
        "colab": {
          "base_uri": "https://localhost:8080/"
        },
        "id": "CVGU6cNCgLY7",
        "outputId": "e9e5cf53-321c-42b8-e9d3-d5c13c67f355"
      },
      "execution_count": 9,
      "outputs": [
        {
          "output_type": "stream",
          "name": "stdout",
          "text": [
            "Dataset Dictionary created.\n"
          ]
        }
      ]
    },
    {
      "cell_type": "code",
      "source": [
        "for record in dataset_dict:\n",
        "    print(record)"
      ],
      "metadata": {
        "colab": {
          "base_uri": "https://localhost:8080/"
        },
        "id": "TKG2nns2g0BY",
        "outputId": "9d6d45a1-1510-495a-8722-94c386719bc6"
      },
      "execution_count": 10,
      "outputs": [
        {
          "output_type": "stream",
          "name": "stdout",
          "text": [
            "{'SrNo': nan, 'Patient_Id': nan, 'Symptoms - 1': 'Fever', 'Unnamed: 3': nan, 'Unnamed: 4': nan, 'DOB': nan, 'Symptoms - 2': 'Cough', 'Unnamed: 7': nan, 'Unnamed: 8': nan, 'Symptoms - 3': 'Cold', 'Unnamed: 10': nan, 'Unnamed: 11': nan, 'Other Symptoms': 'Text', 'Unnamed: 13': nan, 'Unnamed: 14': nan, 'Parser ': 'Create ', 'Unnamed: 16': nan, 'Unnamed: 17': nan}\n",
            "{'SrNo': nan, 'Patient_Id': nan, 'Symptoms - 1': 'Mild', 'Unnamed: 3': 'Low', 'Unnamed: 4': 'High', 'DOB': nan, 'Symptoms - 2': 'Mild', 'Unnamed: 7': 'Low', 'Unnamed: 8': 'High', 'Symptoms - 3': 'Mild', 'Unnamed: 10': 'Low', 'Unnamed: 11': 'High', 'Other Symptoms': 'Text', 'Unnamed: 13': nan, 'Unnamed: 14': nan, 'Parser ': nan, 'Unnamed: 16': 'Data Set Dictionary for Symptoms', 'Unnamed: 17': nan}\n",
            "{'SrNo': 1.0, 'Patient_Id': 1.0, 'Symptoms - 1': 'Y', 'Unnamed: 3': 'N', 'Unnamed: 4': 'N', 'DOB': nan, 'Symptoms - 2': 'N', 'Unnamed: 7': 'Y', 'Unnamed: 8': 'Y0', 'Symptoms - 3': 'N', 'Unnamed: 10': 'N', 'Unnamed: 11': 'Y', 'Other Symptoms': 'Body Ache', 'Unnamed: 13': nan, 'Unnamed: 14': nan, 'Parser ': nan, 'Unnamed: 16': '{', 'Unnamed: 17': nan}\n",
            "{'SrNo': 2.0, 'Patient_Id': 2.0, 'Symptoms - 1': 'Y', 'Unnamed: 3': 'N', 'Unnamed: 4': 'N', 'DOB': nan, 'Symptoms - 2': 'N', 'Unnamed: 7': 'Y', 'Unnamed: 8': 'Y0', 'Symptoms - 3': 'N', 'Unnamed: 10': 'N', 'Unnamed: 11': 'Y', 'Other Symptoms': 'Shivering', 'Unnamed: 13': nan, 'Unnamed: 14': nan, 'Parser ': nan, 'Unnamed: 16': nan, 'Unnamed: 17': 'S1 : { Fever:mild,Fever:low,Fever:High}'}\n",
            "{'SrNo': 3.0, 'Patient_Id': 3.0, 'Symptoms - 1': 'Y', 'Unnamed: 3': 'N', 'Unnamed: 4': 'N', 'DOB': nan, 'Symptoms - 2': 'N', 'Unnamed: 7': 'Y', 'Unnamed: 8': 'Y0', 'Symptoms - 3': 'N', 'Unnamed: 10': 'N', 'Unnamed: 11': 'Y', 'Other Symptoms': 'Head Ache', 'Unnamed: 13': nan, 'Unnamed: 14': nan, 'Parser ': nan, 'Unnamed: 16': nan, 'Unnamed: 17': 'S2 : {Cough:mild,Cough:low,Cough:High}'}\n",
            "{'SrNo': 4.0, 'Patient_Id': 4.0, 'Symptoms - 1': 'Y', 'Unnamed: 3': 'N', 'Unnamed: 4': 'N', 'DOB': nan, 'Symptoms - 2': 'N', 'Unnamed: 7': 'Y', 'Unnamed: 8': 'Y0', 'Symptoms - 3': 'N', 'Unnamed: 10': 'N', 'Unnamed: 11': 'Y', 'Other Symptoms': 'Nausia', 'Unnamed: 13': nan, 'Unnamed: 14': nan, 'Parser ': nan, 'Unnamed: 16': nan, 'Unnamed: 17': 'S3 : {Cold:mild,Cold:low:Cold:High}'}\n",
            "{'SrNo': 5.0, 'Patient_Id': 5.0, 'Symptoms - 1': 'Y', 'Unnamed: 3': 'N', 'Unnamed: 4': 'N', 'DOB': nan, 'Symptoms - 2': 'N', 'Unnamed: 7': 'Y', 'Unnamed: 8': 'Y0', 'Symptoms - 3': 'N', 'Unnamed: 10': 'N', 'Unnamed: 11': 'Y', 'Other Symptoms': 'Sickness', 'Unnamed: 13': nan, 'Unnamed: 14': nan, 'Parser ': nan, 'Unnamed: 16': '}', 'Unnamed: 17': nan}\n",
            "{'SrNo': 6.0, 'Patient_Id': 6.0, 'Symptoms - 1': 'Y', 'Unnamed: 3': 'N', 'Unnamed: 4': 'N', 'DOB': nan, 'Symptoms - 2': 'N', 'Unnamed: 7': 'Y', 'Unnamed: 8': 'Y0', 'Symptoms - 3': 'N', 'Unnamed: 10': 'N', 'Unnamed: 11': 'Y', 'Other Symptoms': 'Vertigo', 'Unnamed: 13': nan, 'Unnamed: 14': nan, 'Parser ': nan, 'Unnamed: 16': nan, 'Unnamed: 17': nan}\n",
            "{'SrNo': 7.0, 'Patient_Id': 7.0, 'Symptoms - 1': 'Y', 'Unnamed: 3': 'N', 'Unnamed: 4': 'N', 'DOB': nan, 'Symptoms - 2': 'N', 'Unnamed: 7': 'Y', 'Unnamed: 8': 'Y0', 'Symptoms - 3': 'N', 'Unnamed: 10': 'N', 'Unnamed: 11': 'Y', 'Other Symptoms': 'Head Ache', 'Unnamed: 13': nan, 'Unnamed: 14': nan, 'Parser ': nan, 'Unnamed: 16': 'Read Data Set ', 'Unnamed: 17': nan}\n",
            "{'SrNo': 8.0, 'Patient_Id': 8.0, 'Symptoms - 1': 'Y', 'Unnamed: 3': 'N', 'Unnamed: 4': 'N', 'DOB': nan, 'Symptoms - 2': 'N', 'Unnamed: 7': 'Y', 'Unnamed: 8': 'Y0', 'Symptoms - 3': 'N', 'Unnamed: 10': 'N', 'Unnamed: 11': 'Y', 'Other Symptoms': 'Nausia', 'Unnamed: 13': nan, 'Unnamed: 14': nan, 'Parser ': nan, 'Unnamed: 16': 'Create a Dictionary ', 'Unnamed: 17': nan}\n",
            "{'SrNo': 9.0, 'Patient_Id': 9.0, 'Symptoms - 1': 'Y', 'Unnamed: 3': 'N', 'Unnamed: 4': 'N', 'DOB': nan, 'Symptoms - 2': 'N', 'Unnamed: 7': 'Y', 'Unnamed: 8': 'Y0', 'Symptoms - 3': 'N', 'Unnamed: 10': 'N', 'Unnamed: 11': 'Y', 'Other Symptoms': 'Sickness', 'Unnamed: 13': nan, 'Unnamed: 14': nan, 'Parser ': nan, 'Unnamed: 16': nan, 'Unnamed: 17': nan}\n",
            "{'SrNo': 10.0, 'Patient_Id': 10.0, 'Symptoms - 1': 'Y', 'Unnamed: 3': 'N', 'Unnamed: 4': 'N', 'DOB': nan, 'Symptoms - 2': 'N', 'Unnamed: 7': 'Y', 'Unnamed: 8': 'Y0', 'Symptoms - 3': 'N', 'Unnamed: 10': 'N', 'Unnamed: 11': 'Y', 'Other Symptoms': 'Vertigo, Nausia', 'Unnamed: 13': nan, 'Unnamed: 14': nan, 'Parser ': nan, 'Unnamed: 16': nan, 'Unnamed: 17': nan}\n"
          ]
        }
      ]
    },
    {
      "cell_type": "code",
      "source": [
        "# Here , lets ssume 'loss' refers to the missing values\n",
        "missing_columns = df.columns[df.isnull().any()].tolist()\n",
        "print(\"Columns with missing data (Loss):\", missing_columns)"
      ],
      "metadata": {
        "colab": {
          "base_uri": "https://localhost:8080/"
        },
        "id": "B5xT_c83g3Qk",
        "outputId": "e238d897-945d-4a3c-c045-1a95a69dbb32"
      },
      "execution_count": 11,
      "outputs": [
        {
          "output_type": "stream",
          "name": "stdout",
          "text": [
            "Columns with missing data (Loss): ['SrNo', 'Patient_Id', 'Unnamed: 3', 'Unnamed: 4', 'DOB', 'Unnamed: 7', 'Unnamed: 8', 'Unnamed: 10', 'Unnamed: 11', 'Unnamed: 13', 'Unnamed: 14', 'Parser ', 'Unnamed: 16', 'Unnamed: 17']\n"
          ]
        }
      ]
    },
    {
      "cell_type": "code",
      "source": [
        "enhanced_dict = df.fillna('Unknown').to_dict(orient='records')\n",
        "print(\"Enhanced Dictionary:\")\n",
        "for record in enhanced_dict:\n",
        "    print(record)\n"
      ],
      "metadata": {
        "colab": {
          "base_uri": "https://localhost:8080/"
        },
        "id": "2O3jjDgKg6BI",
        "outputId": "9cf33d83-2d50-4fb8-9780-a32ca5dec033"
      },
      "execution_count": 12,
      "outputs": [
        {
          "output_type": "stream",
          "name": "stdout",
          "text": [
            "Enhanced Dictionary:\n",
            "{'SrNo': 'Unknown', 'Patient_Id': 'Unknown', 'Symptoms - 1': 'Fever', 'Unnamed: 3': 'Unknown', 'Unnamed: 4': 'Unknown', 'DOB': 'Unknown', 'Symptoms - 2': 'Cough', 'Unnamed: 7': 'Unknown', 'Unnamed: 8': 'Unknown', 'Symptoms - 3': 'Cold', 'Unnamed: 10': 'Unknown', 'Unnamed: 11': 'Unknown', 'Other Symptoms': 'Text', 'Unnamed: 13': 'Unknown', 'Unnamed: 14': 'Unknown', 'Parser ': 'Create ', 'Unnamed: 16': 'Unknown', 'Unnamed: 17': 'Unknown'}\n",
            "{'SrNo': 'Unknown', 'Patient_Id': 'Unknown', 'Symptoms - 1': 'Mild', 'Unnamed: 3': 'Low', 'Unnamed: 4': 'High', 'DOB': 'Unknown', 'Symptoms - 2': 'Mild', 'Unnamed: 7': 'Low', 'Unnamed: 8': 'High', 'Symptoms - 3': 'Mild', 'Unnamed: 10': 'Low', 'Unnamed: 11': 'High', 'Other Symptoms': 'Text', 'Unnamed: 13': 'Unknown', 'Unnamed: 14': 'Unknown', 'Parser ': 'Unknown', 'Unnamed: 16': 'Data Set Dictionary for Symptoms', 'Unnamed: 17': 'Unknown'}\n",
            "{'SrNo': 1.0, 'Patient_Id': 1.0, 'Symptoms - 1': 'Y', 'Unnamed: 3': 'N', 'Unnamed: 4': 'N', 'DOB': 'Unknown', 'Symptoms - 2': 'N', 'Unnamed: 7': 'Y', 'Unnamed: 8': 'Y0', 'Symptoms - 3': 'N', 'Unnamed: 10': 'N', 'Unnamed: 11': 'Y', 'Other Symptoms': 'Body Ache', 'Unnamed: 13': 'Unknown', 'Unnamed: 14': 'Unknown', 'Parser ': 'Unknown', 'Unnamed: 16': '{', 'Unnamed: 17': 'Unknown'}\n",
            "{'SrNo': 2.0, 'Patient_Id': 2.0, 'Symptoms - 1': 'Y', 'Unnamed: 3': 'N', 'Unnamed: 4': 'N', 'DOB': 'Unknown', 'Symptoms - 2': 'N', 'Unnamed: 7': 'Y', 'Unnamed: 8': 'Y0', 'Symptoms - 3': 'N', 'Unnamed: 10': 'N', 'Unnamed: 11': 'Y', 'Other Symptoms': 'Shivering', 'Unnamed: 13': 'Unknown', 'Unnamed: 14': 'Unknown', 'Parser ': 'Unknown', 'Unnamed: 16': 'Unknown', 'Unnamed: 17': 'S1 : { Fever:mild,Fever:low,Fever:High}'}\n",
            "{'SrNo': 3.0, 'Patient_Id': 3.0, 'Symptoms - 1': 'Y', 'Unnamed: 3': 'N', 'Unnamed: 4': 'N', 'DOB': 'Unknown', 'Symptoms - 2': 'N', 'Unnamed: 7': 'Y', 'Unnamed: 8': 'Y0', 'Symptoms - 3': 'N', 'Unnamed: 10': 'N', 'Unnamed: 11': 'Y', 'Other Symptoms': 'Head Ache', 'Unnamed: 13': 'Unknown', 'Unnamed: 14': 'Unknown', 'Parser ': 'Unknown', 'Unnamed: 16': 'Unknown', 'Unnamed: 17': 'S2 : {Cough:mild,Cough:low,Cough:High}'}\n",
            "{'SrNo': 4.0, 'Patient_Id': 4.0, 'Symptoms - 1': 'Y', 'Unnamed: 3': 'N', 'Unnamed: 4': 'N', 'DOB': 'Unknown', 'Symptoms - 2': 'N', 'Unnamed: 7': 'Y', 'Unnamed: 8': 'Y0', 'Symptoms - 3': 'N', 'Unnamed: 10': 'N', 'Unnamed: 11': 'Y', 'Other Symptoms': 'Nausia', 'Unnamed: 13': 'Unknown', 'Unnamed: 14': 'Unknown', 'Parser ': 'Unknown', 'Unnamed: 16': 'Unknown', 'Unnamed: 17': 'S3 : {Cold:mild,Cold:low:Cold:High}'}\n",
            "{'SrNo': 5.0, 'Patient_Id': 5.0, 'Symptoms - 1': 'Y', 'Unnamed: 3': 'N', 'Unnamed: 4': 'N', 'DOB': 'Unknown', 'Symptoms - 2': 'N', 'Unnamed: 7': 'Y', 'Unnamed: 8': 'Y0', 'Symptoms - 3': 'N', 'Unnamed: 10': 'N', 'Unnamed: 11': 'Y', 'Other Symptoms': 'Sickness', 'Unnamed: 13': 'Unknown', 'Unnamed: 14': 'Unknown', 'Parser ': 'Unknown', 'Unnamed: 16': '}', 'Unnamed: 17': 'Unknown'}\n",
            "{'SrNo': 6.0, 'Patient_Id': 6.0, 'Symptoms - 1': 'Y', 'Unnamed: 3': 'N', 'Unnamed: 4': 'N', 'DOB': 'Unknown', 'Symptoms - 2': 'N', 'Unnamed: 7': 'Y', 'Unnamed: 8': 'Y0', 'Symptoms - 3': 'N', 'Unnamed: 10': 'N', 'Unnamed: 11': 'Y', 'Other Symptoms': 'Vertigo', 'Unnamed: 13': 'Unknown', 'Unnamed: 14': 'Unknown', 'Parser ': 'Unknown', 'Unnamed: 16': 'Unknown', 'Unnamed: 17': 'Unknown'}\n",
            "{'SrNo': 7.0, 'Patient_Id': 7.0, 'Symptoms - 1': 'Y', 'Unnamed: 3': 'N', 'Unnamed: 4': 'N', 'DOB': 'Unknown', 'Symptoms - 2': 'N', 'Unnamed: 7': 'Y', 'Unnamed: 8': 'Y0', 'Symptoms - 3': 'N', 'Unnamed: 10': 'N', 'Unnamed: 11': 'Y', 'Other Symptoms': 'Head Ache', 'Unnamed: 13': 'Unknown', 'Unnamed: 14': 'Unknown', 'Parser ': 'Unknown', 'Unnamed: 16': 'Read Data Set ', 'Unnamed: 17': 'Unknown'}\n",
            "{'SrNo': 8.0, 'Patient_Id': 8.0, 'Symptoms - 1': 'Y', 'Unnamed: 3': 'N', 'Unnamed: 4': 'N', 'DOB': 'Unknown', 'Symptoms - 2': 'N', 'Unnamed: 7': 'Y', 'Unnamed: 8': 'Y0', 'Symptoms - 3': 'N', 'Unnamed: 10': 'N', 'Unnamed: 11': 'Y', 'Other Symptoms': 'Nausia', 'Unnamed: 13': 'Unknown', 'Unnamed: 14': 'Unknown', 'Parser ': 'Unknown', 'Unnamed: 16': 'Create a Dictionary ', 'Unnamed: 17': 'Unknown'}\n",
            "{'SrNo': 9.0, 'Patient_Id': 9.0, 'Symptoms - 1': 'Y', 'Unnamed: 3': 'N', 'Unnamed: 4': 'N', 'DOB': 'Unknown', 'Symptoms - 2': 'N', 'Unnamed: 7': 'Y', 'Unnamed: 8': 'Y0', 'Symptoms - 3': 'N', 'Unnamed: 10': 'N', 'Unnamed: 11': 'Y', 'Other Symptoms': 'Sickness', 'Unnamed: 13': 'Unknown', 'Unnamed: 14': 'Unknown', 'Parser ': 'Unknown', 'Unnamed: 16': 'Unknown', 'Unnamed: 17': 'Unknown'}\n",
            "{'SrNo': 10.0, 'Patient_Id': 10.0, 'Symptoms - 1': 'Y', 'Unnamed: 3': 'N', 'Unnamed: 4': 'N', 'DOB': 'Unknown', 'Symptoms - 2': 'N', 'Unnamed: 7': 'Y', 'Unnamed: 8': 'Y0', 'Symptoms - 3': 'N', 'Unnamed: 10': 'N', 'Unnamed: 11': 'Y', 'Other Symptoms': 'Vertigo, Nausia', 'Unnamed: 13': 'Unknown', 'Unnamed: 14': 'Unknown', 'Parser ': 'Unknown', 'Unnamed: 16': 'Unknown', 'Unnamed: 17': 'Unknown'}\n"
          ]
        }
      ]
    },
    {
      "cell_type": "markdown",
      "source": [
        "**Step 3: Analyzing the loss**\n",
        "\n",
        "1) Printing the Enhanced dictionary and Loss found in Step 2.\n",
        "\n",
        "2) Attach the attributes to the dictionary elements.\n",
        ""
      ],
      "metadata": {
        "id": "nAZr1ycbhOvn"
      }
    },
    {
      "cell_type": "code",
      "source": [
        "print(\"Loss (columns with missing data):\", missing_columns)\n",
        "\n",
        "print(\"Enhanced Dictionary after handling missing data:\")\n",
        "for record in enhanced_dict:\n",
        "    print(record)\n"
      ],
      "metadata": {
        "colab": {
          "base_uri": "https://localhost:8080/"
        },
        "id": "jZWAdUYBhF0F",
        "outputId": "9bc5e736-68be-4702-f9a8-11f06192bf45"
      },
      "execution_count": 13,
      "outputs": [
        {
          "output_type": "stream",
          "name": "stdout",
          "text": [
            "Loss (columns with missing data): ['SrNo', 'Patient_Id', 'Unnamed: 3', 'Unnamed: 4', 'DOB', 'Unnamed: 7', 'Unnamed: 8', 'Unnamed: 10', 'Unnamed: 11', 'Unnamed: 13', 'Unnamed: 14', 'Parser ', 'Unnamed: 16', 'Unnamed: 17']\n",
            "Enhanced Dictionary after handling missing data:\n",
            "{'SrNo': 'Unknown', 'Patient_Id': 'Unknown', 'Symptoms - 1': 'Fever', 'Unnamed: 3': 'Unknown', 'Unnamed: 4': 'Unknown', 'DOB': 'Unknown', 'Symptoms - 2': 'Cough', 'Unnamed: 7': 'Unknown', 'Unnamed: 8': 'Unknown', 'Symptoms - 3': 'Cold', 'Unnamed: 10': 'Unknown', 'Unnamed: 11': 'Unknown', 'Other Symptoms': 'Text', 'Unnamed: 13': 'Unknown', 'Unnamed: 14': 'Unknown', 'Parser ': 'Create ', 'Unnamed: 16': 'Unknown', 'Unnamed: 17': 'Unknown'}\n",
            "{'SrNo': 'Unknown', 'Patient_Id': 'Unknown', 'Symptoms - 1': 'Mild', 'Unnamed: 3': 'Low', 'Unnamed: 4': 'High', 'DOB': 'Unknown', 'Symptoms - 2': 'Mild', 'Unnamed: 7': 'Low', 'Unnamed: 8': 'High', 'Symptoms - 3': 'Mild', 'Unnamed: 10': 'Low', 'Unnamed: 11': 'High', 'Other Symptoms': 'Text', 'Unnamed: 13': 'Unknown', 'Unnamed: 14': 'Unknown', 'Parser ': 'Unknown', 'Unnamed: 16': 'Data Set Dictionary for Symptoms', 'Unnamed: 17': 'Unknown'}\n",
            "{'SrNo': 1.0, 'Patient_Id': 1.0, 'Symptoms - 1': 'Y', 'Unnamed: 3': 'N', 'Unnamed: 4': 'N', 'DOB': 'Unknown', 'Symptoms - 2': 'N', 'Unnamed: 7': 'Y', 'Unnamed: 8': 'Y0', 'Symptoms - 3': 'N', 'Unnamed: 10': 'N', 'Unnamed: 11': 'Y', 'Other Symptoms': 'Body Ache', 'Unnamed: 13': 'Unknown', 'Unnamed: 14': 'Unknown', 'Parser ': 'Unknown', 'Unnamed: 16': '{', 'Unnamed: 17': 'Unknown'}\n",
            "{'SrNo': 2.0, 'Patient_Id': 2.0, 'Symptoms - 1': 'Y', 'Unnamed: 3': 'N', 'Unnamed: 4': 'N', 'DOB': 'Unknown', 'Symptoms - 2': 'N', 'Unnamed: 7': 'Y', 'Unnamed: 8': 'Y0', 'Symptoms - 3': 'N', 'Unnamed: 10': 'N', 'Unnamed: 11': 'Y', 'Other Symptoms': 'Shivering', 'Unnamed: 13': 'Unknown', 'Unnamed: 14': 'Unknown', 'Parser ': 'Unknown', 'Unnamed: 16': 'Unknown', 'Unnamed: 17': 'S1 : { Fever:mild,Fever:low,Fever:High}'}\n",
            "{'SrNo': 3.0, 'Patient_Id': 3.0, 'Symptoms - 1': 'Y', 'Unnamed: 3': 'N', 'Unnamed: 4': 'N', 'DOB': 'Unknown', 'Symptoms - 2': 'N', 'Unnamed: 7': 'Y', 'Unnamed: 8': 'Y0', 'Symptoms - 3': 'N', 'Unnamed: 10': 'N', 'Unnamed: 11': 'Y', 'Other Symptoms': 'Head Ache', 'Unnamed: 13': 'Unknown', 'Unnamed: 14': 'Unknown', 'Parser ': 'Unknown', 'Unnamed: 16': 'Unknown', 'Unnamed: 17': 'S2 : {Cough:mild,Cough:low,Cough:High}'}\n",
            "{'SrNo': 4.0, 'Patient_Id': 4.0, 'Symptoms - 1': 'Y', 'Unnamed: 3': 'N', 'Unnamed: 4': 'N', 'DOB': 'Unknown', 'Symptoms - 2': 'N', 'Unnamed: 7': 'Y', 'Unnamed: 8': 'Y0', 'Symptoms - 3': 'N', 'Unnamed: 10': 'N', 'Unnamed: 11': 'Y', 'Other Symptoms': 'Nausia', 'Unnamed: 13': 'Unknown', 'Unnamed: 14': 'Unknown', 'Parser ': 'Unknown', 'Unnamed: 16': 'Unknown', 'Unnamed: 17': 'S3 : {Cold:mild,Cold:low:Cold:High}'}\n",
            "{'SrNo': 5.0, 'Patient_Id': 5.0, 'Symptoms - 1': 'Y', 'Unnamed: 3': 'N', 'Unnamed: 4': 'N', 'DOB': 'Unknown', 'Symptoms - 2': 'N', 'Unnamed: 7': 'Y', 'Unnamed: 8': 'Y0', 'Symptoms - 3': 'N', 'Unnamed: 10': 'N', 'Unnamed: 11': 'Y', 'Other Symptoms': 'Sickness', 'Unnamed: 13': 'Unknown', 'Unnamed: 14': 'Unknown', 'Parser ': 'Unknown', 'Unnamed: 16': '}', 'Unnamed: 17': 'Unknown'}\n",
            "{'SrNo': 6.0, 'Patient_Id': 6.0, 'Symptoms - 1': 'Y', 'Unnamed: 3': 'N', 'Unnamed: 4': 'N', 'DOB': 'Unknown', 'Symptoms - 2': 'N', 'Unnamed: 7': 'Y', 'Unnamed: 8': 'Y0', 'Symptoms - 3': 'N', 'Unnamed: 10': 'N', 'Unnamed: 11': 'Y', 'Other Symptoms': 'Vertigo', 'Unnamed: 13': 'Unknown', 'Unnamed: 14': 'Unknown', 'Parser ': 'Unknown', 'Unnamed: 16': 'Unknown', 'Unnamed: 17': 'Unknown'}\n",
            "{'SrNo': 7.0, 'Patient_Id': 7.0, 'Symptoms - 1': 'Y', 'Unnamed: 3': 'N', 'Unnamed: 4': 'N', 'DOB': 'Unknown', 'Symptoms - 2': 'N', 'Unnamed: 7': 'Y', 'Unnamed: 8': 'Y0', 'Symptoms - 3': 'N', 'Unnamed: 10': 'N', 'Unnamed: 11': 'Y', 'Other Symptoms': 'Head Ache', 'Unnamed: 13': 'Unknown', 'Unnamed: 14': 'Unknown', 'Parser ': 'Unknown', 'Unnamed: 16': 'Read Data Set ', 'Unnamed: 17': 'Unknown'}\n",
            "{'SrNo': 8.0, 'Patient_Id': 8.0, 'Symptoms - 1': 'Y', 'Unnamed: 3': 'N', 'Unnamed: 4': 'N', 'DOB': 'Unknown', 'Symptoms - 2': 'N', 'Unnamed: 7': 'Y', 'Unnamed: 8': 'Y0', 'Symptoms - 3': 'N', 'Unnamed: 10': 'N', 'Unnamed: 11': 'Y', 'Other Symptoms': 'Nausia', 'Unnamed: 13': 'Unknown', 'Unnamed: 14': 'Unknown', 'Parser ': 'Unknown', 'Unnamed: 16': 'Create a Dictionary ', 'Unnamed: 17': 'Unknown'}\n",
            "{'SrNo': 9.0, 'Patient_Id': 9.0, 'Symptoms - 1': 'Y', 'Unnamed: 3': 'N', 'Unnamed: 4': 'N', 'DOB': 'Unknown', 'Symptoms - 2': 'N', 'Unnamed: 7': 'Y', 'Unnamed: 8': 'Y0', 'Symptoms - 3': 'N', 'Unnamed: 10': 'N', 'Unnamed: 11': 'Y', 'Other Symptoms': 'Sickness', 'Unnamed: 13': 'Unknown', 'Unnamed: 14': 'Unknown', 'Parser ': 'Unknown', 'Unnamed: 16': 'Unknown', 'Unnamed: 17': 'Unknown'}\n",
            "{'SrNo': 10.0, 'Patient_Id': 10.0, 'Symptoms - 1': 'Y', 'Unnamed: 3': 'N', 'Unnamed: 4': 'N', 'DOB': 'Unknown', 'Symptoms - 2': 'N', 'Unnamed: 7': 'Y', 'Unnamed: 8': 'Y0', 'Symptoms - 3': 'N', 'Unnamed: 10': 'N', 'Unnamed: 11': 'Y', 'Other Symptoms': 'Vertigo, Nausia', 'Unnamed: 13': 'Unknown', 'Unnamed: 14': 'Unknown', 'Parser ': 'Unknown', 'Unnamed: 16': 'Unknown', 'Unnamed: 17': 'Unknown'}\n"
          ]
        }
      ]
    },
    {
      "cell_type": "code",
      "source": [
        "for record in enhanced_dict:\n",
        "    record['Status'] = 'Processed'\n",
        "\n",
        "# Printing the updated records\n",
        "print(\"Dictionary with new attribute 'Status':\")\n",
        "for record in enhanced_dict:\n",
        "    print(record)\n"
      ],
      "metadata": {
        "colab": {
          "base_uri": "https://localhost:8080/"
        },
        "id": "vzFtQyKoh13P",
        "outputId": "e8f3752c-b24b-4121-d275-f039026d62cf"
      },
      "execution_count": 14,
      "outputs": [
        {
          "output_type": "stream",
          "name": "stdout",
          "text": [
            "Dictionary with new attribute 'Status':\n",
            "{'SrNo': 'Unknown', 'Patient_Id': 'Unknown', 'Symptoms - 1': 'Fever', 'Unnamed: 3': 'Unknown', 'Unnamed: 4': 'Unknown', 'DOB': 'Unknown', 'Symptoms - 2': 'Cough', 'Unnamed: 7': 'Unknown', 'Unnamed: 8': 'Unknown', 'Symptoms - 3': 'Cold', 'Unnamed: 10': 'Unknown', 'Unnamed: 11': 'Unknown', 'Other Symptoms': 'Text', 'Unnamed: 13': 'Unknown', 'Unnamed: 14': 'Unknown', 'Parser ': 'Create ', 'Unnamed: 16': 'Unknown', 'Unnamed: 17': 'Unknown', 'Status': 'Processed'}\n",
            "{'SrNo': 'Unknown', 'Patient_Id': 'Unknown', 'Symptoms - 1': 'Mild', 'Unnamed: 3': 'Low', 'Unnamed: 4': 'High', 'DOB': 'Unknown', 'Symptoms - 2': 'Mild', 'Unnamed: 7': 'Low', 'Unnamed: 8': 'High', 'Symptoms - 3': 'Mild', 'Unnamed: 10': 'Low', 'Unnamed: 11': 'High', 'Other Symptoms': 'Text', 'Unnamed: 13': 'Unknown', 'Unnamed: 14': 'Unknown', 'Parser ': 'Unknown', 'Unnamed: 16': 'Data Set Dictionary for Symptoms', 'Unnamed: 17': 'Unknown', 'Status': 'Processed'}\n",
            "{'SrNo': 1.0, 'Patient_Id': 1.0, 'Symptoms - 1': 'Y', 'Unnamed: 3': 'N', 'Unnamed: 4': 'N', 'DOB': 'Unknown', 'Symptoms - 2': 'N', 'Unnamed: 7': 'Y', 'Unnamed: 8': 'Y0', 'Symptoms - 3': 'N', 'Unnamed: 10': 'N', 'Unnamed: 11': 'Y', 'Other Symptoms': 'Body Ache', 'Unnamed: 13': 'Unknown', 'Unnamed: 14': 'Unknown', 'Parser ': 'Unknown', 'Unnamed: 16': '{', 'Unnamed: 17': 'Unknown', 'Status': 'Processed'}\n",
            "{'SrNo': 2.0, 'Patient_Id': 2.0, 'Symptoms - 1': 'Y', 'Unnamed: 3': 'N', 'Unnamed: 4': 'N', 'DOB': 'Unknown', 'Symptoms - 2': 'N', 'Unnamed: 7': 'Y', 'Unnamed: 8': 'Y0', 'Symptoms - 3': 'N', 'Unnamed: 10': 'N', 'Unnamed: 11': 'Y', 'Other Symptoms': 'Shivering', 'Unnamed: 13': 'Unknown', 'Unnamed: 14': 'Unknown', 'Parser ': 'Unknown', 'Unnamed: 16': 'Unknown', 'Unnamed: 17': 'S1 : { Fever:mild,Fever:low,Fever:High}', 'Status': 'Processed'}\n",
            "{'SrNo': 3.0, 'Patient_Id': 3.0, 'Symptoms - 1': 'Y', 'Unnamed: 3': 'N', 'Unnamed: 4': 'N', 'DOB': 'Unknown', 'Symptoms - 2': 'N', 'Unnamed: 7': 'Y', 'Unnamed: 8': 'Y0', 'Symptoms - 3': 'N', 'Unnamed: 10': 'N', 'Unnamed: 11': 'Y', 'Other Symptoms': 'Head Ache', 'Unnamed: 13': 'Unknown', 'Unnamed: 14': 'Unknown', 'Parser ': 'Unknown', 'Unnamed: 16': 'Unknown', 'Unnamed: 17': 'S2 : {Cough:mild,Cough:low,Cough:High}', 'Status': 'Processed'}\n",
            "{'SrNo': 4.0, 'Patient_Id': 4.0, 'Symptoms - 1': 'Y', 'Unnamed: 3': 'N', 'Unnamed: 4': 'N', 'DOB': 'Unknown', 'Symptoms - 2': 'N', 'Unnamed: 7': 'Y', 'Unnamed: 8': 'Y0', 'Symptoms - 3': 'N', 'Unnamed: 10': 'N', 'Unnamed: 11': 'Y', 'Other Symptoms': 'Nausia', 'Unnamed: 13': 'Unknown', 'Unnamed: 14': 'Unknown', 'Parser ': 'Unknown', 'Unnamed: 16': 'Unknown', 'Unnamed: 17': 'S3 : {Cold:mild,Cold:low:Cold:High}', 'Status': 'Processed'}\n",
            "{'SrNo': 5.0, 'Patient_Id': 5.0, 'Symptoms - 1': 'Y', 'Unnamed: 3': 'N', 'Unnamed: 4': 'N', 'DOB': 'Unknown', 'Symptoms - 2': 'N', 'Unnamed: 7': 'Y', 'Unnamed: 8': 'Y0', 'Symptoms - 3': 'N', 'Unnamed: 10': 'N', 'Unnamed: 11': 'Y', 'Other Symptoms': 'Sickness', 'Unnamed: 13': 'Unknown', 'Unnamed: 14': 'Unknown', 'Parser ': 'Unknown', 'Unnamed: 16': '}', 'Unnamed: 17': 'Unknown', 'Status': 'Processed'}\n",
            "{'SrNo': 6.0, 'Patient_Id': 6.0, 'Symptoms - 1': 'Y', 'Unnamed: 3': 'N', 'Unnamed: 4': 'N', 'DOB': 'Unknown', 'Symptoms - 2': 'N', 'Unnamed: 7': 'Y', 'Unnamed: 8': 'Y0', 'Symptoms - 3': 'N', 'Unnamed: 10': 'N', 'Unnamed: 11': 'Y', 'Other Symptoms': 'Vertigo', 'Unnamed: 13': 'Unknown', 'Unnamed: 14': 'Unknown', 'Parser ': 'Unknown', 'Unnamed: 16': 'Unknown', 'Unnamed: 17': 'Unknown', 'Status': 'Processed'}\n",
            "{'SrNo': 7.0, 'Patient_Id': 7.0, 'Symptoms - 1': 'Y', 'Unnamed: 3': 'N', 'Unnamed: 4': 'N', 'DOB': 'Unknown', 'Symptoms - 2': 'N', 'Unnamed: 7': 'Y', 'Unnamed: 8': 'Y0', 'Symptoms - 3': 'N', 'Unnamed: 10': 'N', 'Unnamed: 11': 'Y', 'Other Symptoms': 'Head Ache', 'Unnamed: 13': 'Unknown', 'Unnamed: 14': 'Unknown', 'Parser ': 'Unknown', 'Unnamed: 16': 'Read Data Set ', 'Unnamed: 17': 'Unknown', 'Status': 'Processed'}\n",
            "{'SrNo': 8.0, 'Patient_Id': 8.0, 'Symptoms - 1': 'Y', 'Unnamed: 3': 'N', 'Unnamed: 4': 'N', 'DOB': 'Unknown', 'Symptoms - 2': 'N', 'Unnamed: 7': 'Y', 'Unnamed: 8': 'Y0', 'Symptoms - 3': 'N', 'Unnamed: 10': 'N', 'Unnamed: 11': 'Y', 'Other Symptoms': 'Nausia', 'Unnamed: 13': 'Unknown', 'Unnamed: 14': 'Unknown', 'Parser ': 'Unknown', 'Unnamed: 16': 'Create a Dictionary ', 'Unnamed: 17': 'Unknown', 'Status': 'Processed'}\n",
            "{'SrNo': 9.0, 'Patient_Id': 9.0, 'Symptoms - 1': 'Y', 'Unnamed: 3': 'N', 'Unnamed: 4': 'N', 'DOB': 'Unknown', 'Symptoms - 2': 'N', 'Unnamed: 7': 'Y', 'Unnamed: 8': 'Y0', 'Symptoms - 3': 'N', 'Unnamed: 10': 'N', 'Unnamed: 11': 'Y', 'Other Symptoms': 'Sickness', 'Unnamed: 13': 'Unknown', 'Unnamed: 14': 'Unknown', 'Parser ': 'Unknown', 'Unnamed: 16': 'Unknown', 'Unnamed: 17': 'Unknown', 'Status': 'Processed'}\n",
            "{'SrNo': 10.0, 'Patient_Id': 10.0, 'Symptoms - 1': 'Y', 'Unnamed: 3': 'N', 'Unnamed: 4': 'N', 'DOB': 'Unknown', 'Symptoms - 2': 'N', 'Unnamed: 7': 'Y', 'Unnamed: 8': 'Y0', 'Symptoms - 3': 'N', 'Unnamed: 10': 'N', 'Unnamed: 11': 'Y', 'Other Symptoms': 'Vertigo, Nausia', 'Unnamed: 13': 'Unknown', 'Unnamed: 14': 'Unknown', 'Parser ': 'Unknown', 'Unnamed: 16': 'Unknown', 'Unnamed: 17': 'Unknown', 'Status': 'Processed'}\n"
          ]
        }
      ]
    },
    {
      "cell_type": "code",
      "source": [
        "attribute_loss = []\n",
        "for record in enhanced_dict:\n",
        "    if 'Status' not in record:\n",
        "        attribute_loss.append(record)\n",
        "\n",
        "print(\"Loss of attributes (should be 0):\", len(attribute_loss))\n"
      ],
      "metadata": {
        "colab": {
          "base_uri": "https://localhost:8080/"
        },
        "id": "LYQKssH3h7FT",
        "outputId": "3e055001-329c-4848-a4cf-79817b4a609f"
      },
      "execution_count": 15,
      "outputs": [
        {
          "output_type": "stream",
          "name": "stdout",
          "text": [
            "Loss of attributes (should be 0): 0\n"
          ]
        }
      ]
    },
    {
      "cell_type": "markdown",
      "source": [
        "**Step 4: Parser Funtionality**\n",
        "\n",
        "1) Read any format of data csv,tsv,json,xml\n",
        "2) Reads and enhances dictionary\n",
        "3) Reads the data and prints as per the available colums in dictonary in the next pass\n",
        "4) Using a facility to dump the dictionary as file\n",
        "5) Allows manual editing and reparsing of dictionary"
      ],
      "metadata": {
        "id": "LL9HiiViiElb"
      }
    },
    {
      "cell_type": "code",
      "source": [
        "# Function to parse multiple formats and enhance the dictionary\n",
        "def parse_file(file_path, file_format):\n",
        "    if file_format == 'csv':\n",
        "        return pd.read_csv(file_path).fillna('Unknown').to_dict(orient='records')\n",
        "    elif file_format == 'json':\n",
        "        return pd.read_json(file_path).fillna('Unknown').to_dict(orient='records')\n",
        "    elif file_format == 'excel':\n",
        "        return pd.read_excel(file_path).fillna('Unknown').to_dict(orient='records')\n",
        "    else:\n",
        "        return None\n",
        "\n",
        "# Call the parser with the current file\n",
        "parsed_data = parse_file(file_path, 'excel')\n",
        "\n",
        "print(\"Parsed and enhanced data:\")\n",
        "for record in parsed_data:\n",
        "    print(record)\n"
      ],
      "metadata": {
        "colab": {
          "base_uri": "https://localhost:8080/"
        },
        "id": "F66_OUTSiANy",
        "outputId": "b89c5a17-50cd-4420-81f3-8096b8e034a6"
      },
      "execution_count": 16,
      "outputs": [
        {
          "output_type": "stream",
          "name": "stdout",
          "text": [
            "Parsed and enhanced data:\n",
            "{'SrNo': 'Unknown', 'Patient_Id': 'Unknown', 'Symptoms - 1': 'Fever', 'Unnamed: 3': 'Unknown', 'Unnamed: 4': 'Unknown', 'DOB': 'Unknown', 'Symptoms - 2': 'Cough', 'Unnamed: 7': 'Unknown', 'Unnamed: 8': 'Unknown', 'Symptoms - 3': 'Cold', 'Unnamed: 10': 'Unknown', 'Unnamed: 11': 'Unknown', 'Other Symptoms': 'Text', 'Unnamed: 13': 'Unknown', 'Unnamed: 14': 'Unknown', 'Parser ': 'Create ', 'Unnamed: 16': 'Unknown', 'Unnamed: 17': 'Unknown'}\n",
            "{'SrNo': 'Unknown', 'Patient_Id': 'Unknown', 'Symptoms - 1': 'Mild', 'Unnamed: 3': 'Low', 'Unnamed: 4': 'High', 'DOB': 'Unknown', 'Symptoms - 2': 'Mild', 'Unnamed: 7': 'Low', 'Unnamed: 8': 'High', 'Symptoms - 3': 'Mild', 'Unnamed: 10': 'Low', 'Unnamed: 11': 'High', 'Other Symptoms': 'Text', 'Unnamed: 13': 'Unknown', 'Unnamed: 14': 'Unknown', 'Parser ': 'Unknown', 'Unnamed: 16': 'Data Set Dictionary for Symptoms', 'Unnamed: 17': 'Unknown'}\n",
            "{'SrNo': 1.0, 'Patient_Id': 1.0, 'Symptoms - 1': 'Y', 'Unnamed: 3': 'N', 'Unnamed: 4': 'N', 'DOB': 'Unknown', 'Symptoms - 2': 'N', 'Unnamed: 7': 'Y', 'Unnamed: 8': 'Y0', 'Symptoms - 3': 'N', 'Unnamed: 10': 'N', 'Unnamed: 11': 'Y', 'Other Symptoms': 'Body Ache', 'Unnamed: 13': 'Unknown', 'Unnamed: 14': 'Unknown', 'Parser ': 'Unknown', 'Unnamed: 16': '{', 'Unnamed: 17': 'Unknown'}\n",
            "{'SrNo': 2.0, 'Patient_Id': 2.0, 'Symptoms - 1': 'Y', 'Unnamed: 3': 'N', 'Unnamed: 4': 'N', 'DOB': 'Unknown', 'Symptoms - 2': 'N', 'Unnamed: 7': 'Y', 'Unnamed: 8': 'Y0', 'Symptoms - 3': 'N', 'Unnamed: 10': 'N', 'Unnamed: 11': 'Y', 'Other Symptoms': 'Shivering', 'Unnamed: 13': 'Unknown', 'Unnamed: 14': 'Unknown', 'Parser ': 'Unknown', 'Unnamed: 16': 'Unknown', 'Unnamed: 17': 'S1 : { Fever:mild,Fever:low,Fever:High}'}\n",
            "{'SrNo': 3.0, 'Patient_Id': 3.0, 'Symptoms - 1': 'Y', 'Unnamed: 3': 'N', 'Unnamed: 4': 'N', 'DOB': 'Unknown', 'Symptoms - 2': 'N', 'Unnamed: 7': 'Y', 'Unnamed: 8': 'Y0', 'Symptoms - 3': 'N', 'Unnamed: 10': 'N', 'Unnamed: 11': 'Y', 'Other Symptoms': 'Head Ache', 'Unnamed: 13': 'Unknown', 'Unnamed: 14': 'Unknown', 'Parser ': 'Unknown', 'Unnamed: 16': 'Unknown', 'Unnamed: 17': 'S2 : {Cough:mild,Cough:low,Cough:High}'}\n",
            "{'SrNo': 4.0, 'Patient_Id': 4.0, 'Symptoms - 1': 'Y', 'Unnamed: 3': 'N', 'Unnamed: 4': 'N', 'DOB': 'Unknown', 'Symptoms - 2': 'N', 'Unnamed: 7': 'Y', 'Unnamed: 8': 'Y0', 'Symptoms - 3': 'N', 'Unnamed: 10': 'N', 'Unnamed: 11': 'Y', 'Other Symptoms': 'Nausia', 'Unnamed: 13': 'Unknown', 'Unnamed: 14': 'Unknown', 'Parser ': 'Unknown', 'Unnamed: 16': 'Unknown', 'Unnamed: 17': 'S3 : {Cold:mild,Cold:low:Cold:High}'}\n",
            "{'SrNo': 5.0, 'Patient_Id': 5.0, 'Symptoms - 1': 'Y', 'Unnamed: 3': 'N', 'Unnamed: 4': 'N', 'DOB': 'Unknown', 'Symptoms - 2': 'N', 'Unnamed: 7': 'Y', 'Unnamed: 8': 'Y0', 'Symptoms - 3': 'N', 'Unnamed: 10': 'N', 'Unnamed: 11': 'Y', 'Other Symptoms': 'Sickness', 'Unnamed: 13': 'Unknown', 'Unnamed: 14': 'Unknown', 'Parser ': 'Unknown', 'Unnamed: 16': '}', 'Unnamed: 17': 'Unknown'}\n",
            "{'SrNo': 6.0, 'Patient_Id': 6.0, 'Symptoms - 1': 'Y', 'Unnamed: 3': 'N', 'Unnamed: 4': 'N', 'DOB': 'Unknown', 'Symptoms - 2': 'N', 'Unnamed: 7': 'Y', 'Unnamed: 8': 'Y0', 'Symptoms - 3': 'N', 'Unnamed: 10': 'N', 'Unnamed: 11': 'Y', 'Other Symptoms': 'Vertigo', 'Unnamed: 13': 'Unknown', 'Unnamed: 14': 'Unknown', 'Parser ': 'Unknown', 'Unnamed: 16': 'Unknown', 'Unnamed: 17': 'Unknown'}\n",
            "{'SrNo': 7.0, 'Patient_Id': 7.0, 'Symptoms - 1': 'Y', 'Unnamed: 3': 'N', 'Unnamed: 4': 'N', 'DOB': 'Unknown', 'Symptoms - 2': 'N', 'Unnamed: 7': 'Y', 'Unnamed: 8': 'Y0', 'Symptoms - 3': 'N', 'Unnamed: 10': 'N', 'Unnamed: 11': 'Y', 'Other Symptoms': 'Head Ache', 'Unnamed: 13': 'Unknown', 'Unnamed: 14': 'Unknown', 'Parser ': 'Unknown', 'Unnamed: 16': 'Read Data Set ', 'Unnamed: 17': 'Unknown'}\n",
            "{'SrNo': 8.0, 'Patient_Id': 8.0, 'Symptoms - 1': 'Y', 'Unnamed: 3': 'N', 'Unnamed: 4': 'N', 'DOB': 'Unknown', 'Symptoms - 2': 'N', 'Unnamed: 7': 'Y', 'Unnamed: 8': 'Y0', 'Symptoms - 3': 'N', 'Unnamed: 10': 'N', 'Unnamed: 11': 'Y', 'Other Symptoms': 'Nausia', 'Unnamed: 13': 'Unknown', 'Unnamed: 14': 'Unknown', 'Parser ': 'Unknown', 'Unnamed: 16': 'Create a Dictionary ', 'Unnamed: 17': 'Unknown'}\n",
            "{'SrNo': 9.0, 'Patient_Id': 9.0, 'Symptoms - 1': 'Y', 'Unnamed: 3': 'N', 'Unnamed: 4': 'N', 'DOB': 'Unknown', 'Symptoms - 2': 'N', 'Unnamed: 7': 'Y', 'Unnamed: 8': 'Y0', 'Symptoms - 3': 'N', 'Unnamed: 10': 'N', 'Unnamed: 11': 'Y', 'Other Symptoms': 'Sickness', 'Unnamed: 13': 'Unknown', 'Unnamed: 14': 'Unknown', 'Parser ': 'Unknown', 'Unnamed: 16': 'Unknown', 'Unnamed: 17': 'Unknown'}\n",
            "{'SrNo': 10.0, 'Patient_Id': 10.0, 'Symptoms - 1': 'Y', 'Unnamed: 3': 'N', 'Unnamed: 4': 'N', 'DOB': 'Unknown', 'Symptoms - 2': 'N', 'Unnamed: 7': 'Y', 'Unnamed: 8': 'Y0', 'Symptoms - 3': 'N', 'Unnamed: 10': 'N', 'Unnamed: 11': 'Y', 'Other Symptoms': 'Vertigo, Nausia', 'Unnamed: 13': 'Unknown', 'Unnamed: 14': 'Unknown', 'Parser ': 'Unknown', 'Unnamed: 16': 'Unknown', 'Unnamed: 17': 'Unknown'}\n"
          ]
        }
      ]
    },
    {
      "cell_type": "code",
      "source": [
        "available_columns = df.columns.tolist()\n",
        "print(\"Available columns in dataset:\", available_columns)\n"
      ],
      "metadata": {
        "colab": {
          "base_uri": "https://localhost:8080/"
        },
        "id": "K1gwJM2JiiZ4",
        "outputId": "8132e556-22da-48dc-a031-a09be14eaa9e"
      },
      "execution_count": 17,
      "outputs": [
        {
          "output_type": "stream",
          "name": "stdout",
          "text": [
            "Available columns in dataset: ['SrNo', 'Patient_Id', 'Symptoms - 1', 'Unnamed: 3', 'Unnamed: 4', 'DOB', 'Symptoms - 2', 'Unnamed: 7', 'Unnamed: 8', 'Symptoms - 3', 'Unnamed: 10', 'Unnamed: 11', 'Other Symptoms', 'Unnamed: 13', 'Unnamed: 14', 'Parser ', 'Unnamed: 16', 'Unnamed: 17']\n"
          ]
        }
      ]
    },
    {
      "cell_type": "code",
      "source": [
        "import json\n",
        "\n",
        "with open('enhanced_dictionary.json', 'w') as json_file:\n",
        "    json.dump(parsed_data, json_file)\n",
        "\n",
        "print(\"Enhanced dictionary dumped to 'enhanced_dictionary.json'.\")\n"
      ],
      "metadata": {
        "colab": {
          "base_uri": "https://localhost:8080/"
        },
        "id": "s52Inu8hikUP",
        "outputId": "27049e57-9cb1-4d61-e550-01361072c9e3"
      },
      "execution_count": 18,
      "outputs": [
        {
          "output_type": "stream",
          "name": "stdout",
          "text": [
            "Enhanced dictionary dumped to 'enhanced_dictionary.json'.\n"
          ]
        }
      ]
    },
    {
      "cell_type": "code",
      "source": [
        "# Function to reload and reparse the manually edited dictionary\n",
        "def reload_and_reparse(file_path):\n",
        "    with open(file_path, 'r') as json_file:\n",
        "        data = json.load(json_file)\n",
        "    return data\n",
        "\n",
        "reparsed_data = reload_and_reparse('enhanced_dictionary.json')\n",
        "print(\"Reparsed Dictionary after manual editing:\")\n",
        "for record in reparsed_data:\n",
        "    print(record)\n"
      ],
      "metadata": {
        "colab": {
          "base_uri": "https://localhost:8080/"
        },
        "id": "CIcR-B6fimIg",
        "outputId": "698fcf0e-3a2c-4433-c1c7-95026f881703"
      },
      "execution_count": 19,
      "outputs": [
        {
          "output_type": "stream",
          "name": "stdout",
          "text": [
            "Reparsed Dictionary after manual editing:\n",
            "{'SrNo': 'Unknown', 'Patient_Id': 'Unknown', 'Symptoms - 1': 'Fever', 'Unnamed: 3': 'Unknown', 'Unnamed: 4': 'Unknown', 'DOB': 'Unknown', 'Symptoms - 2': 'Cough', 'Unnamed: 7': 'Unknown', 'Unnamed: 8': 'Unknown', 'Symptoms - 3': 'Cold', 'Unnamed: 10': 'Unknown', 'Unnamed: 11': 'Unknown', 'Other Symptoms': 'Text', 'Unnamed: 13': 'Unknown', 'Unnamed: 14': 'Unknown', 'Parser ': 'Create ', 'Unnamed: 16': 'Unknown', 'Unnamed: 17': 'Unknown'}\n",
            "{'SrNo': 'Unknown', 'Patient_Id': 'Unknown', 'Symptoms - 1': 'Mild', 'Unnamed: 3': 'Low', 'Unnamed: 4': 'High', 'DOB': 'Unknown', 'Symptoms - 2': 'Mild', 'Unnamed: 7': 'Low', 'Unnamed: 8': 'High', 'Symptoms - 3': 'Mild', 'Unnamed: 10': 'Low', 'Unnamed: 11': 'High', 'Other Symptoms': 'Text', 'Unnamed: 13': 'Unknown', 'Unnamed: 14': 'Unknown', 'Parser ': 'Unknown', 'Unnamed: 16': 'Data Set Dictionary for Symptoms', 'Unnamed: 17': 'Unknown'}\n",
            "{'SrNo': 1.0, 'Patient_Id': 1.0, 'Symptoms - 1': 'Y', 'Unnamed: 3': 'N', 'Unnamed: 4': 'N', 'DOB': 'Unknown', 'Symptoms - 2': 'N', 'Unnamed: 7': 'Y', 'Unnamed: 8': 'Y0', 'Symptoms - 3': 'N', 'Unnamed: 10': 'N', 'Unnamed: 11': 'Y', 'Other Symptoms': 'Body Ache', 'Unnamed: 13': 'Unknown', 'Unnamed: 14': 'Unknown', 'Parser ': 'Unknown', 'Unnamed: 16': '{', 'Unnamed: 17': 'Unknown'}\n",
            "{'SrNo': 2.0, 'Patient_Id': 2.0, 'Symptoms - 1': 'Y', 'Unnamed: 3': 'N', 'Unnamed: 4': 'N', 'DOB': 'Unknown', 'Symptoms - 2': 'N', 'Unnamed: 7': 'Y', 'Unnamed: 8': 'Y0', 'Symptoms - 3': 'N', 'Unnamed: 10': 'N', 'Unnamed: 11': 'Y', 'Other Symptoms': 'Shivering', 'Unnamed: 13': 'Unknown', 'Unnamed: 14': 'Unknown', 'Parser ': 'Unknown', 'Unnamed: 16': 'Unknown', 'Unnamed: 17': 'S1 : { Fever:mild,Fever:low,Fever:High}'}\n",
            "{'SrNo': 3.0, 'Patient_Id': 3.0, 'Symptoms - 1': 'Y', 'Unnamed: 3': 'N', 'Unnamed: 4': 'N', 'DOB': 'Unknown', 'Symptoms - 2': 'N', 'Unnamed: 7': 'Y', 'Unnamed: 8': 'Y0', 'Symptoms - 3': 'N', 'Unnamed: 10': 'N', 'Unnamed: 11': 'Y', 'Other Symptoms': 'Head Ache', 'Unnamed: 13': 'Unknown', 'Unnamed: 14': 'Unknown', 'Parser ': 'Unknown', 'Unnamed: 16': 'Unknown', 'Unnamed: 17': 'S2 : {Cough:mild,Cough:low,Cough:High}'}\n",
            "{'SrNo': 4.0, 'Patient_Id': 4.0, 'Symptoms - 1': 'Y', 'Unnamed: 3': 'N', 'Unnamed: 4': 'N', 'DOB': 'Unknown', 'Symptoms - 2': 'N', 'Unnamed: 7': 'Y', 'Unnamed: 8': 'Y0', 'Symptoms - 3': 'N', 'Unnamed: 10': 'N', 'Unnamed: 11': 'Y', 'Other Symptoms': 'Nausia', 'Unnamed: 13': 'Unknown', 'Unnamed: 14': 'Unknown', 'Parser ': 'Unknown', 'Unnamed: 16': 'Unknown', 'Unnamed: 17': 'S3 : {Cold:mild,Cold:low:Cold:High}'}\n",
            "{'SrNo': 5.0, 'Patient_Id': 5.0, 'Symptoms - 1': 'Y', 'Unnamed: 3': 'N', 'Unnamed: 4': 'N', 'DOB': 'Unknown', 'Symptoms - 2': 'N', 'Unnamed: 7': 'Y', 'Unnamed: 8': 'Y0', 'Symptoms - 3': 'N', 'Unnamed: 10': 'N', 'Unnamed: 11': 'Y', 'Other Symptoms': 'Sickness', 'Unnamed: 13': 'Unknown', 'Unnamed: 14': 'Unknown', 'Parser ': 'Unknown', 'Unnamed: 16': '}', 'Unnamed: 17': 'Unknown'}\n",
            "{'SrNo': 6.0, 'Patient_Id': 6.0, 'Symptoms - 1': 'Y', 'Unnamed: 3': 'N', 'Unnamed: 4': 'N', 'DOB': 'Unknown', 'Symptoms - 2': 'N', 'Unnamed: 7': 'Y', 'Unnamed: 8': 'Y0', 'Symptoms - 3': 'N', 'Unnamed: 10': 'N', 'Unnamed: 11': 'Y', 'Other Symptoms': 'Vertigo', 'Unnamed: 13': 'Unknown', 'Unnamed: 14': 'Unknown', 'Parser ': 'Unknown', 'Unnamed: 16': 'Unknown', 'Unnamed: 17': 'Unknown'}\n",
            "{'SrNo': 7.0, 'Patient_Id': 7.0, 'Symptoms - 1': 'Y', 'Unnamed: 3': 'N', 'Unnamed: 4': 'N', 'DOB': 'Unknown', 'Symptoms - 2': 'N', 'Unnamed: 7': 'Y', 'Unnamed: 8': 'Y0', 'Symptoms - 3': 'N', 'Unnamed: 10': 'N', 'Unnamed: 11': 'Y', 'Other Symptoms': 'Head Ache', 'Unnamed: 13': 'Unknown', 'Unnamed: 14': 'Unknown', 'Parser ': 'Unknown', 'Unnamed: 16': 'Read Data Set ', 'Unnamed: 17': 'Unknown'}\n",
            "{'SrNo': 8.0, 'Patient_Id': 8.0, 'Symptoms - 1': 'Y', 'Unnamed: 3': 'N', 'Unnamed: 4': 'N', 'DOB': 'Unknown', 'Symptoms - 2': 'N', 'Unnamed: 7': 'Y', 'Unnamed: 8': 'Y0', 'Symptoms - 3': 'N', 'Unnamed: 10': 'N', 'Unnamed: 11': 'Y', 'Other Symptoms': 'Nausia', 'Unnamed: 13': 'Unknown', 'Unnamed: 14': 'Unknown', 'Parser ': 'Unknown', 'Unnamed: 16': 'Create a Dictionary ', 'Unnamed: 17': 'Unknown'}\n",
            "{'SrNo': 9.0, 'Patient_Id': 9.0, 'Symptoms - 1': 'Y', 'Unnamed: 3': 'N', 'Unnamed: 4': 'N', 'DOB': 'Unknown', 'Symptoms - 2': 'N', 'Unnamed: 7': 'Y', 'Unnamed: 8': 'Y0', 'Symptoms - 3': 'N', 'Unnamed: 10': 'N', 'Unnamed: 11': 'Y', 'Other Symptoms': 'Sickness', 'Unnamed: 13': 'Unknown', 'Unnamed: 14': 'Unknown', 'Parser ': 'Unknown', 'Unnamed: 16': 'Unknown', 'Unnamed: 17': 'Unknown'}\n",
            "{'SrNo': 10.0, 'Patient_Id': 10.0, 'Symptoms - 1': 'Y', 'Unnamed: 3': 'N', 'Unnamed: 4': 'N', 'DOB': 'Unknown', 'Symptoms - 2': 'N', 'Unnamed: 7': 'Y', 'Unnamed: 8': 'Y0', 'Symptoms - 3': 'N', 'Unnamed: 10': 'N', 'Unnamed: 11': 'Y', 'Other Symptoms': 'Vertigo, Nausia', 'Unnamed: 13': 'Unknown', 'Unnamed: 14': 'Unknown', 'Parser ': 'Unknown', 'Unnamed: 16': 'Unknown', 'Unnamed: 17': 'Unknown'}\n"
          ]
        }
      ]
    },
    {
      "cell_type": "code",
      "source": [],
      "metadata": {
        "id": "7TWK6ZFLioYs"
      },
      "execution_count": null,
      "outputs": []
    }
  ]
}